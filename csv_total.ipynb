{
 "cells": [
  {
   "cell_type": "code",
   "execution_count": 5,
   "metadata": {},
   "outputs": [],
   "source": [
    "import csv\n",
    "import os\n",
    "import pandas as pd\n",
    "\n",
    "read_dir = './data/'\n",
    "files = os.listdir(read_dir)\n",
    "\n",
    "total_list = {}\n",
    "def csv_save(save_data):\n",
    "    data=pd.DataFrame(save_data)\n",
    "#     now = datetime.datetime.now()\n",
    "#     nowDatetime = str(now.strftime('%Y%m%d%H%M%S'))\n",
    "    data.to_csv(\"total_list.csv\", sep=',', index=False, header=None, encoding='utf-8-sig')\n",
    "    \n",
    "for file in files:\n",
    "    f = open(read_dir+file, 'r', encoding='utf-8-sig')\n",
    "    rdr = csv.reader(f)\n",
    "    for line in rdr:\n",
    "        if line[0] in total_list:\n",
    "            total_list[line[0]] = total_list[line[0]] + int(line[1])\n",
    "        else:\n",
    "            total_list[line[0]]=int(line[1])\n",
    "    f.close()\n",
    "csv_save(list(total_list.items()))"
   ]
  },
  {
   "cell_type": "code",
   "execution_count": null,
   "metadata": {},
   "outputs": [],
   "source": []
  }
 ],
 "metadata": {
  "kernelspec": {
   "display_name": "Python 3",
   "language": "python",
   "name": "python3"
  },
  "language_info": {
   "codemirror_mode": {
    "name": "ipython",
    "version": 3
   },
   "file_extension": ".py",
   "mimetype": "text/x-python",
   "name": "python",
   "nbconvert_exporter": "python",
   "pygments_lexer": "ipython3",
   "version": "3.6.8"
  }
 },
 "nbformat": 4,
 "nbformat_minor": 2
}
