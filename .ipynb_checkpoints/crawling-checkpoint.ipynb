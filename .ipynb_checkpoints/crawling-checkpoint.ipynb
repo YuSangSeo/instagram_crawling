{
 "cells": [
  {
   "cell_type": "code",
   "execution_count": 40,
   "metadata": {},
   "outputs": [],
   "source": [
    "import webbrowser\n",
    "import csv\n",
    "import re\n",
    "import numpy as np\n",
    "import pandas as pd\n",
    "import datetime\n",
    "import requests\n",
    "import os\n",
    "import urllib\n",
    "import urllib.request\n",
    "import time\n",
    "\n",
    "\n",
    "from bs4 import BeautifulSoup\n",
    "from selenium import webdriver\n",
    "from selenium.common.exceptions import NoSuchElementException\n",
    "from selenium.common.exceptions import ElementNotInteractableException\n",
    "from selenium.common.exceptions import TimeoutException"
   ]
  },
  {
   "cell_type": "code",
   "execution_count": 41,
   "metadata": {},
   "outputs": [],
   "source": [
    "def init(keyword, driver):\n",
    "    url = 'https://tiktogram.com/location/'  #검색 홈페이지\n",
    "    driver.get(url+keyword) #드라이버에 전달   #버튼 객체 가져오기\n",
    "    return driver"
   ]
  },
  {
   "cell_type": "code",
   "execution_count": 42,
   "metadata": {},
   "outputs": [],
   "source": [
    "def csv_save(save_data):\n",
    "    data=pd.DataFrame(save_data)\n",
    "    now = datetime.datetime.now()\n",
    "    nowDatetime = str(now.strftime('%Y%m%d%H%M%S'))\n",
    "    data.to_csv(write_dir+nowDatetime+\".csv\", sep=',', index=False, header=None, encoding='utf-8-sig')"
   ]
  },
  {
   "cell_type": "code",
   "execution_count": 43,
   "metadata": {},
   "outputs": [],
   "source": [
    "def get_ContentCount(driver):\n",
    "    return len(driver.find_elements_by_xpath(\"/html/body/div[3]/div[3]/ul/li\"))"
   ]
  },
  {
   "cell_type": "code",
   "execution_count": 44,
   "metadata": {},
   "outputs": [],
   "source": [
    "def load_content(driver,ALL_CONTENT_COUNT,GOAL_CONTENT_COUNT):\n",
    "    last_height = driver.execute_script(\"return document.body.scrollHeight\")\n",
    "    while ALL_CONTENT_COUNT<GOAL_CONTENT_COUNT:\n",
    "        driver.execute_script(\"window.scrollTo(0, document.body.scrollHeight);\")\n",
    "        time.sleep(SCROLL_PAUSE_TIME)                                              \n",
    "        driver.execute_script(\"window.scrollTo(0, document.body.scrollHeight-50);\")\n",
    "        time.sleep(SCROLL_PAUSE_TIME)\n",
    "        new_height = driver.execute_script(\"return document.body.scrollHeight\")\n",
    "        if new_height == last_height:\n",
    "            break\n",
    "        last_height = new_height\n",
    "        ALL_CONTENT_COUNT=get_ContentCount(driver)\n",
    "        print(\"현재 로딩된 게시물 수 : \" + str(ALL_CONTENT_COUNT))\n",
    "    return ALL_CONTENT_COUNT"
   ]
  },
  {
   "cell_type": "code",
   "execution_count": 45,
   "metadata": {},
   "outputs": [
    {
     "name": "stdout",
     "output_type": "stream",
     "text": [
      "현재 로딩된 게시물 수 : 132\n",
      "현재 로딩된 게시물 수 : 264\n",
      "현재 로딩된 게시물 수 : 396\n",
      "현재 로딩된 게시물 수 : 528\n",
      "호출 완료 게시물 수 : 528\n"
     ]
    }
   ],
   "source": [
    "if __name__ == \"__main__\":\n",
    "    driver = webdriver.Chrome('chromedriver')\n",
    "    url='https://www.picuki.com/location/ulsan-korea/5771181'\n",
    "    driver.get(url) #드라이버에 전달   #버튼 객체 가져오기\n",
    "    SCROLL_PAUSE_TIME = 5\n",
    "    ALL_CONTENT_COUNT = 0\n",
    "    GOAL_CONTENT_COUNT = 400\n",
    "    # Get scroll height\n",
    "#     id = driver.find_element_by_xpath(\"/html/body/div[3]/div[3]/ul/li[1]/div/div[2]/div[1]/a\").text\n",
    "# 아이디 호출\n",
    "    print(\"호출 완료 게시물 수 : \"+str(load_content(driver,ALL_CONTENT_COUNT,GOAL_CONTENT_COUNT)))"
   ]
  },
  {
   "cell_type": "code",
   "execution_count": null,
   "metadata": {},
   "outputs": [],
   "source": []
  }
 ],
 "metadata": {
  "kernelspec": {
   "display_name": "Python 3",
   "language": "python",
   "name": "python3"
  },
  "language_info": {
   "codemirror_mode": {
    "name": "ipython",
    "version": 3
   },
   "file_extension": ".py",
   "mimetype": "text/x-python",
   "name": "python",
   "nbconvert_exporter": "python",
   "pygments_lexer": "ipython3",
   "version": "3.6.8"
  }
 },
 "nbformat": 4,
 "nbformat_minor": 2
}
